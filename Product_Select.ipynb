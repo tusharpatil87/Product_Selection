{
 "cells": [
  {
   "cell_type": "markdown",
   "id": "97423deb",
   "metadata": {},
   "source": [
    "# Business Problem/Goal of the ML project:\n",
    "\n",
    "To Determine which product should be given to customer or selection of product by customer is lengthy and confusing process in practice. The older process leads to manual intervention in result of threats and challenges like bad product selection, exra time taken, overwait, overprocessing, duplicasy of works, waiting time in the cycle. To overcome from these challenges and threats using machine learning technique to create product selection ML model to select correct product with the help of given features."
   ]
  },
  {
   "cell_type": "markdown",
   "id": "7ab0fda0",
   "metadata": {},
   "source": [
    "# Tools Setup for the Business Problem:\n",
    "\n",
    "Import All required initial libraries"
   ]
  },
  {
   "cell_type": "code",
   "execution_count": 1,
   "id": "0ebe6b51",
   "metadata": {},
   "outputs": [],
   "source": [
    "import numpy as np\n",
    "import pandas as pd\n",
    "import matplotlib.pyplot as plt\n",
    "import seaborn as sns"
   ]
  },
  {
   "cell_type": "markdown",
   "id": "69fb9774",
   "metadata": {},
   "source": [
    "# Data Collection by Load sample dataset"
   ]
  },
  {
   "cell_type": "code",
   "execution_count": 2,
   "id": "36716d30",
   "metadata": {},
   "outputs": [],
   "source": [
    "path = r\"Product_data_Short.csv\"\n",
    "df = pd.read_csv(path)"
   ]
  },
  {
   "cell_type": "code",
   "execution_count": 3,
   "id": "cd9906b8",
   "metadata": {},
   "outputs": [
    {
     "data": {
      "text/html": [
       "<div>\n",
       "<style scoped>\n",
       "    .dataframe tbody tr th:only-of-type {\n",
       "        vertical-align: middle;\n",
       "    }\n",
       "\n",
       "    .dataframe tbody tr th {\n",
       "        vertical-align: top;\n",
       "    }\n",
       "\n",
       "    .dataframe thead th {\n",
       "        text-align: right;\n",
       "    }\n",
       "</style>\n",
       "<table border=\"1\" class=\"dataframe\">\n",
       "  <thead>\n",
       "    <tr style=\"text-align: right;\">\n",
       "      <th></th>\n",
       "      <th>Location</th>\n",
       "      <th>Region</th>\n",
       "      <th>Construction</th>\n",
       "      <th>Earthquake</th>\n",
       "      <th>Flood</th>\n",
       "      <th>Product</th>\n",
       "    </tr>\n",
       "  </thead>\n",
       "  <tbody>\n",
       "    <tr>\n",
       "      <th>0</th>\n",
       "      <td>Urban</td>\n",
       "      <td>East</td>\n",
       "      <td>Frame</td>\n",
       "      <td>N</td>\n",
       "      <td>N</td>\n",
       "      <td>Standard</td>\n",
       "    </tr>\n",
       "    <tr>\n",
       "      <th>1</th>\n",
       "      <td>Urban</td>\n",
       "      <td>East</td>\n",
       "      <td>Fire Resist</td>\n",
       "      <td>Y</td>\n",
       "      <td>Y</td>\n",
       "      <td>Basic</td>\n",
       "    </tr>\n",
       "    <tr>\n",
       "      <th>2</th>\n",
       "      <td>Rural</td>\n",
       "      <td>Midwest</td>\n",
       "      <td>Frame</td>\n",
       "      <td>N</td>\n",
       "      <td>N</td>\n",
       "      <td>Basic</td>\n",
       "    </tr>\n",
       "    <tr>\n",
       "      <th>3</th>\n",
       "      <td>Urban</td>\n",
       "      <td>East</td>\n",
       "      <td>Frame</td>\n",
       "      <td>Y</td>\n",
       "      <td>Y</td>\n",
       "      <td>Standard</td>\n",
       "    </tr>\n",
       "    <tr>\n",
       "      <th>4</th>\n",
       "      <td>Urban</td>\n",
       "      <td>East</td>\n",
       "      <td>Masonry</td>\n",
       "      <td>N</td>\n",
       "      <td>N</td>\n",
       "      <td>Premium</td>\n",
       "    </tr>\n",
       "  </tbody>\n",
       "</table>\n",
       "</div>"
      ],
      "text/plain": [
       "  Location   Region Construction Earthquake Flood   Product\n",
       "0    Urban     East        Frame          N     N  Standard\n",
       "1    Urban     East  Fire Resist          Y     Y     Basic\n",
       "2    Rural  Midwest        Frame          N     N     Basic\n",
       "3    Urban     East        Frame          Y     Y  Standard\n",
       "4    Urban     East      Masonry          N     N   Premium"
      ]
     },
     "execution_count": 3,
     "metadata": {},
     "output_type": "execute_result"
    }
   ],
   "source": [
    "df.head()"
   ]
  },
  {
   "cell_type": "code",
   "execution_count": 4,
   "id": "fc58c40e",
   "metadata": {},
   "outputs": [
    {
     "data": {
      "text/plain": [
       "0      Standard\n",
       "1         Basic\n",
       "2         Basic\n",
       "3      Standard\n",
       "4       Premium\n",
       "         ...   \n",
       "495       Basic\n",
       "496       Basic\n",
       "497    Standard\n",
       "498    Standard\n",
       "499    Standard\n",
       "Name: Product, Length: 500, dtype: object"
      ]
     },
     "execution_count": 4,
     "metadata": {},
     "output_type": "execute_result"
    }
   ],
   "source": [
    "df[\"Product\"]"
   ]
  },
  {
   "cell_type": "markdown",
   "id": "67460ecc",
   "metadata": {},
   "source": [
    "# Exploratory Data Analysis With the help of Numpy, Pandas, Matplotlib, Seaborn"
   ]
  },
  {
   "cell_type": "code",
   "execution_count": 5,
   "id": "6cbef81b",
   "metadata": {},
   "outputs": [
    {
     "data": {
      "text/plain": [
       "(500, 6)"
      ]
     },
     "execution_count": 5,
     "metadata": {},
     "output_type": "execute_result"
    }
   ],
   "source": [
    "df.shape"
   ]
  },
  {
   "cell_type": "code",
   "execution_count": 6,
   "id": "c8ced050",
   "metadata": {},
   "outputs": [
    {
     "data": {
      "text/html": [
       "<div>\n",
       "<style scoped>\n",
       "    .dataframe tbody tr th:only-of-type {\n",
       "        vertical-align: middle;\n",
       "    }\n",
       "\n",
       "    .dataframe tbody tr th {\n",
       "        vertical-align: top;\n",
       "    }\n",
       "\n",
       "    .dataframe thead th {\n",
       "        text-align: right;\n",
       "    }\n",
       "</style>\n",
       "<table border=\"1\" class=\"dataframe\">\n",
       "  <thead>\n",
       "    <tr style=\"text-align: right;\">\n",
       "      <th></th>\n",
       "      <th>Location</th>\n",
       "      <th>Region</th>\n",
       "      <th>Construction</th>\n",
       "      <th>Earthquake</th>\n",
       "      <th>Flood</th>\n",
       "      <th>Product</th>\n",
       "    </tr>\n",
       "  </thead>\n",
       "  <tbody>\n",
       "    <tr>\n",
       "      <th>495</th>\n",
       "      <td>Urban</td>\n",
       "      <td>Northeast</td>\n",
       "      <td>Fire Resist</td>\n",
       "      <td>Y</td>\n",
       "      <td>Y</td>\n",
       "      <td>Basic</td>\n",
       "    </tr>\n",
       "    <tr>\n",
       "      <th>496</th>\n",
       "      <td>Urban</td>\n",
       "      <td>Central</td>\n",
       "      <td>Frame</td>\n",
       "      <td>N</td>\n",
       "      <td>N</td>\n",
       "      <td>Basic</td>\n",
       "    </tr>\n",
       "    <tr>\n",
       "      <th>497</th>\n",
       "      <td>Urban</td>\n",
       "      <td>East</td>\n",
       "      <td>Frame</td>\n",
       "      <td>Y</td>\n",
       "      <td>Y</td>\n",
       "      <td>Standard</td>\n",
       "    </tr>\n",
       "    <tr>\n",
       "      <th>498</th>\n",
       "      <td>Urban</td>\n",
       "      <td>East</td>\n",
       "      <td>Frame</td>\n",
       "      <td>Y</td>\n",
       "      <td>Y</td>\n",
       "      <td>Standard</td>\n",
       "    </tr>\n",
       "    <tr>\n",
       "      <th>499</th>\n",
       "      <td>Urban</td>\n",
       "      <td>Midwest</td>\n",
       "      <td>Frame</td>\n",
       "      <td>N</td>\n",
       "      <td>N</td>\n",
       "      <td>Standard</td>\n",
       "    </tr>\n",
       "  </tbody>\n",
       "</table>\n",
       "</div>"
      ],
      "text/plain": [
       "    Location     Region Construction Earthquake Flood   Product\n",
       "495    Urban  Northeast  Fire Resist          Y     Y     Basic\n",
       "496    Urban    Central        Frame          N     N     Basic\n",
       "497    Urban       East        Frame          Y     Y  Standard\n",
       "498    Urban       East        Frame          Y     Y  Standard\n",
       "499    Urban    Midwest        Frame          N     N  Standard"
      ]
     },
     "execution_count": 6,
     "metadata": {},
     "output_type": "execute_result"
    }
   ],
   "source": [
    "df.tail()"
   ]
  },
  {
   "cell_type": "code",
   "execution_count": 7,
   "id": "fa87a4e8",
   "metadata": {},
   "outputs": [
    {
     "name": "stdout",
     "output_type": "stream",
     "text": [
      "<class 'pandas.core.frame.DataFrame'>\n",
      "RangeIndex: 500 entries, 0 to 499\n",
      "Data columns (total 6 columns):\n",
      " #   Column        Non-Null Count  Dtype \n",
      "---  ------        --------------  ----- \n",
      " 0   Location      500 non-null    object\n",
      " 1   Region        500 non-null    object\n",
      " 2   Construction  500 non-null    object\n",
      " 3   Earthquake    500 non-null    object\n",
      " 4   Flood         500 non-null    object\n",
      " 5   Product       500 non-null    object\n",
      "dtypes: object(6)\n",
      "memory usage: 23.6+ KB\n"
     ]
    }
   ],
   "source": [
    "df.info()"
   ]
  },
  {
   "cell_type": "code",
   "execution_count": 8,
   "id": "53113576",
   "metadata": {},
   "outputs": [
    {
     "data": {
      "text/html": [
       "<div>\n",
       "<style scoped>\n",
       "    .dataframe tbody tr th:only-of-type {\n",
       "        vertical-align: middle;\n",
       "    }\n",
       "\n",
       "    .dataframe tbody tr th {\n",
       "        vertical-align: top;\n",
       "    }\n",
       "\n",
       "    .dataframe thead th {\n",
       "        text-align: right;\n",
       "    }\n",
       "</style>\n",
       "<table border=\"1\" class=\"dataframe\">\n",
       "  <thead>\n",
       "    <tr style=\"text-align: right;\">\n",
       "      <th></th>\n",
       "      <th>Location</th>\n",
       "      <th>Region</th>\n",
       "      <th>Construction</th>\n",
       "      <th>Earthquake</th>\n",
       "      <th>Flood</th>\n",
       "      <th>Product</th>\n",
       "    </tr>\n",
       "  </thead>\n",
       "  <tbody>\n",
       "    <tr>\n",
       "      <th>count</th>\n",
       "      <td>500</td>\n",
       "      <td>500</td>\n",
       "      <td>500</td>\n",
       "      <td>500</td>\n",
       "      <td>500</td>\n",
       "      <td>500</td>\n",
       "    </tr>\n",
       "    <tr>\n",
       "      <th>unique</th>\n",
       "      <td>2</td>\n",
       "      <td>4</td>\n",
       "      <td>4</td>\n",
       "      <td>2</td>\n",
       "      <td>2</td>\n",
       "      <td>3</td>\n",
       "    </tr>\n",
       "    <tr>\n",
       "      <th>top</th>\n",
       "      <td>Urban</td>\n",
       "      <td>East</td>\n",
       "      <td>Frame</td>\n",
       "      <td>Y</td>\n",
       "      <td>N</td>\n",
       "      <td>Standard</td>\n",
       "    </tr>\n",
       "    <tr>\n",
       "      <th>freq</th>\n",
       "      <td>405</td>\n",
       "      <td>337</td>\n",
       "      <td>322</td>\n",
       "      <td>256</td>\n",
       "      <td>251</td>\n",
       "      <td>229</td>\n",
       "    </tr>\n",
       "  </tbody>\n",
       "</table>\n",
       "</div>"
      ],
      "text/plain": [
       "       Location Region Construction Earthquake Flood   Product\n",
       "count       500    500          500        500   500       500\n",
       "unique        2      4            4          2     2         3\n",
       "top       Urban   East        Frame          Y     N  Standard\n",
       "freq        405    337          322        256   251       229"
      ]
     },
     "execution_count": 8,
     "metadata": {},
     "output_type": "execute_result"
    }
   ],
   "source": [
    "df.describe()"
   ]
  },
  {
   "cell_type": "markdown",
   "id": "9773d800",
   "metadata": {},
   "source": [
    "# Data Visualization with the help of the Matplotlib/ Seaborn"
   ]
  },
  {
   "cell_type": "code",
   "execution_count": 9,
   "id": "618cf59d",
   "metadata": {},
   "outputs": [
    {
     "name": "stderr",
     "output_type": "stream",
     "text": [
      "c:\\users\\om\\appdata\\local\\programs\\python\\python39\\lib\\site-packages\\seaborn\\_decorators.py:36: FutureWarning: Pass the following variable as a keyword arg: x. From version 0.12, the only valid positional argument will be `data`, and passing other arguments without an explicit keyword will result in an error or misinterpretation.\n",
      "  warnings.warn(\n"
     ]
    },
    {
     "data": {
      "text/plain": [
       "<AxesSubplot:xlabel='Product', ylabel='count'>"
      ]
     },
     "execution_count": 9,
     "metadata": {},
     "output_type": "execute_result"
    },
    {
     "data": {
      "image/png": "[encoded data removed]",
      "text/plain": [
       "<Figure size 432x288 with 1 Axes>"
      ]
     },
     "metadata": {
      "needs_background": "light"
     },
     "output_type": "display_data"
    }
   ],
   "source": [
    "sns.countplot(df['Product'])"
   ]
  },
  {
   "cell_type": "code",
   "execution_count": 10,
   "id": "21b37f07",
   "metadata": {},
   "outputs": [
    {
     "name": "stderr",
     "output_type": "stream",
     "text": [
      "c:\\users\\om\\appdata\\local\\programs\\python\\python39\\lib\\site-packages\\seaborn\\_decorators.py:36: FutureWarning: Pass the following variable as a keyword arg: x. From version 0.12, the only valid positional argument will be `data`, and passing other arguments without an explicit keyword will result in an error or misinterpretation.\n",
      "  warnings.warn(\n"
     ]
    },
    {
     "data": {
      "text/plain": [
       "<AxesSubplot:xlabel='Product', ylabel='count'>"
      ]
     },
     "execution_count": 10,
     "metadata": {},
     "output_type": "execute_result"
    },
    {
     "data": {
      "image/png": "[encoded data removed]",
      "text/plain": [
       "<Figure size 1440x576 with 1 Axes>"
      ]
     },
     "metadata": {
      "needs_background": "light"
     },
     "output_type": "display_data"
    }
   ],
   "source": [
    "plt.figure(figsize = (20,8))\n",
    "sns.countplot(df['Product'])"
   ]
  },
  {
   "cell_type": "code",
   "execution_count": 11,
   "id": "a3fe4970",
   "metadata": {},
   "outputs": [
    {
     "data": {
      "text/plain": [
       "array(['Standard', 'Basic', 'Basic', 'Standard', 'Premium', 'Standard',\n",
       "       'Premium', 'Basic', 'Standard', 'Premium', 'Standard', 'Standard',\n",
       "       'Premium', 'Premium', 'Premium', 'Standard', 'Basic', 'Premium',\n",
       "       'Premium', 'Standard', 'Basic', 'Standard', 'Standard', 'Standard',\n",
       "       'Basic', 'Standard', 'Premium', 'Premium', 'Standard', 'Basic',\n",
       "       'Standard', 'Premium', 'Standard', 'Standard', 'Basic', 'Standard',\n",
       "       'Basic', 'Standard', 'Basic', 'Standard', 'Basic', 'Standard',\n",
       "       'Standard', 'Standard', 'Standard', 'Premium', 'Standard',\n",
       "       'Premium', 'Standard', 'Premium', 'Premium', 'Standard', 'Basic',\n",
       "       'Basic', 'Premium', 'Basic', 'Standard', 'Premium', 'Premium',\n",
       "       'Standard', 'Basic', 'Premium', 'Premium', 'Standard', 'Basic',\n",
       "       'Standard', 'Standard', 'Basic', 'Premium', 'Standard', 'Premium',\n",
       "       'Standard', 'Basic', 'Basic', 'Standard', 'Premium', 'Standard',\n",
       "       'Basic', 'Premium', 'Basic', 'Premium', 'Premium', 'Premium',\n",
       "       'Basic', 'Standard', 'Premium', 'Standard', 'Standard', 'Standard',\n",
       "       'Basic', 'Basic', 'Standard', 'Premium', 'Standard', 'Basic',\n",
       "       'Standard', 'Premium', 'Basic', 'Standard', 'Premium', 'Standard',\n",
       "       'Premium', 'Standard', 'Standard', 'Standard', 'Premium',\n",
       "       'Standard', 'Standard', 'Basic', 'Basic', 'Premium', 'Standard',\n",
       "       'Standard', 'Basic', 'Standard', 'Standard', 'Standard', 'Basic',\n",
       "       'Basic', 'Basic', 'Standard', 'Premium', 'Premium', 'Basic',\n",
       "       'Standard', 'Standard', 'Standard', 'Standard', 'Basic', 'Premium',\n",
       "       'Basic', 'Basic', 'Basic', 'Standard', 'Standard', 'Standard',\n",
       "       'Premium', 'Premium', 'Standard', 'Standard', 'Standard',\n",
       "       'Premium', 'Standard', 'Standard', 'Standard', 'Standard',\n",
       "       'Standard', 'Standard', 'Premium', 'Premium', 'Basic', 'Standard',\n",
       "       'Basic', 'Basic', 'Basic', 'Standard', 'Standard', 'Basic',\n",
       "       'Standard', 'Premium', 'Basic', 'Premium', 'Standard', 'Standard',\n",
       "       'Standard', 'Basic', 'Standard', 'Standard', 'Basic', 'Premium',\n",
       "       'Premium', 'Standard', 'Basic', 'Premium', 'Standard', 'Premium',\n",
       "       'Premium', 'Premium', 'Basic', 'Basic', 'Standard', 'Premium',\n",
       "       'Basic', 'Standard', 'Premium', 'Premium', 'Basic', 'Basic',\n",
       "       'Basic', 'Standard', 'Standard', 'Basic', 'Basic', 'Basic',\n",
       "       'Basic', 'Standard', 'Premium', 'Basic', 'Basic', 'Basic',\n",
       "       'Standard', 'Basic', 'Premium', 'Standard', 'Basic', 'Standard',\n",
       "       'Premium', 'Standard', 'Premium', 'Premium', 'Basic', 'Basic',\n",
       "       'Premium', 'Premium', 'Basic', 'Standard', 'Premium', 'Standard',\n",
       "       'Standard', 'Standard', 'Basic', 'Standard', 'Premium', 'Standard',\n",
       "       'Standard', 'Premium', 'Standard', 'Standard', 'Basic', 'Premium',\n",
       "       'Premium', 'Basic', 'Standard', 'Premium', 'Standard', 'Premium',\n",
       "       'Standard', 'Basic', 'Standard', 'Standard', 'Basic', 'Standard',\n",
       "       'Standard', 'Standard', 'Premium', 'Standard', 'Basic', 'Standard',\n",
       "       'Standard', 'Basic', 'Premium', 'Standard', 'Standard', 'Premium',\n",
       "       'Basic', 'Standard', 'Premium', 'Premium', 'Basic', 'Basic',\n",
       "       'Basic', 'Basic', 'Standard', 'Basic', 'Premium', 'Standard',\n",
       "       'Standard', 'Standard', 'Standard', 'Premium', 'Premium', 'Basic',\n",
       "       'Premium', 'Standard', 'Premium', 'Standard', 'Basic', 'Standard',\n",
       "       'Basic', 'Standard', 'Basic', 'Basic', 'Standard', 'Standard',\n",
       "       'Basic', 'Standard', 'Premium', 'Premium', 'Standard', 'Standard',\n",
       "       'Standard', 'Standard', 'Standard', 'Standard', 'Standard',\n",
       "       'Standard', 'Premium', 'Standard', 'Basic', 'Standard', 'Standard',\n",
       "       'Standard', 'Standard', 'Standard', 'Standard', 'Standard',\n",
       "       'Basic', 'Standard', 'Standard', 'Premium', 'Standard', 'Premium',\n",
       "       'Standard', 'Premium', 'Standard', 'Standard', 'Basic', 'Standard',\n",
       "       'Basic', 'Standard', 'Premium', 'Standard', 'Standard', 'Premium',\n",
       "       'Premium', 'Basic', 'Basic', 'Premium', 'Standard', 'Basic',\n",
       "       'Standard', 'Standard', 'Premium', 'Premium', 'Standard',\n",
       "       'Premium', 'Premium', 'Standard', 'Premium', 'Basic', 'Premium',\n",
       "       'Premium', 'Standard', 'Standard', 'Standard', 'Standard',\n",
       "       'Standard', 'Premium', 'Standard', 'Basic', 'Premium', 'Standard',\n",
       "       'Standard', 'Basic', 'Basic', 'Standard', 'Premium', 'Standard',\n",
       "       'Standard', 'Standard', 'Basic', 'Basic', 'Standard', 'Premium',\n",
       "       'Standard', 'Basic', 'Premium', 'Standard', 'Standard', 'Basic',\n",
       "       'Premium', 'Basic', 'Standard', 'Standard', 'Basic', 'Premium',\n",
       "       'Standard', 'Basic', 'Basic', 'Standard', 'Basic', 'Premium',\n",
       "       'Standard', 'Premium', 'Basic', 'Standard', 'Premium', 'Premium',\n",
       "       'Basic', 'Standard', 'Basic', 'Standard', 'Standard', 'Premium',\n",
       "       'Basic', 'Standard', 'Standard', 'Standard', 'Premium', 'Standard',\n",
       "       'Basic', 'Premium', 'Premium', 'Basic', 'Basic', 'Premium',\n",
       "       'Basic', 'Standard', 'Premium', 'Standard', 'Premium', 'Basic',\n",
       "       'Basic', 'Basic', 'Premium', 'Standard', 'Standard', 'Basic',\n",
       "       'Standard', 'Standard', 'Standard', 'Basic', 'Premium', 'Standard',\n",
       "       'Standard', 'Standard', 'Basic', 'Premium', 'Standard', 'Standard',\n",
       "       'Basic', 'Premium', 'Standard', 'Basic', 'Standard', 'Standard',\n",
       "       'Standard', 'Basic', 'Basic', 'Standard', 'Standard', 'Basic',\n",
       "       'Basic', 'Premium', 'Premium', 'Premium', 'Basic', 'Basic',\n",
       "       'Standard', 'Basic', 'Standard', 'Standard', 'Basic', 'Standard',\n",
       "       'Basic', 'Premium', 'Premium', 'Standard', 'Standard', 'Premium',\n",
       "       'Standard', 'Premium', 'Standard', 'Basic', 'Basic', 'Standard',\n",
       "       'Standard', 'Standard', 'Standard', 'Premium', 'Premium', 'Basic',\n",
       "       'Standard', 'Premium', 'Standard', 'Basic', 'Standard', 'Premium',\n",
       "       'Premium', 'Standard', 'Basic', 'Standard', 'Basic', 'Basic',\n",
       "       'Basic', 'Premium', 'Premium', 'Premium', 'Standard', 'Standard',\n",
       "       'Standard', 'Standard', 'Basic', 'Standard', 'Basic', 'Basic',\n",
       "       'Basic', 'Standard', 'Standard', 'Standard'], dtype=object)"
      ]
     },
     "execution_count": 11,
     "metadata": {},
     "output_type": "execute_result"
    }
   ],
   "source": [
    "df['Product'].values"
   ]
  },
  {
   "cell_type": "code",
   "execution_count": 12,
   "id": "4991b818",
   "metadata": {},
   "outputs": [
    {
     "data": {
      "text/plain": [
       "Location        0\n",
       "Region          0\n",
       "Construction    0\n",
       "Earthquake      0\n",
       "Flood           0\n",
       "Product         0\n",
       "dtype: int64"
      ]
     },
     "execution_count": 12,
     "metadata": {},
     "output_type": "execute_result"
    }
   ],
   "source": [
    "df.isnull().sum()"
   ]
  },
  {
   "cell_type": "code",
   "execution_count": 13,
   "id": "e35be0e3",
   "metadata": {},
   "outputs": [
    {
     "data": {
      "text/plain": [
       "Standard    229\n",
       "Basic       140\n",
       "Premium     131\n",
       "Name: Product, dtype: int64"
      ]
     },
     "execution_count": 13,
     "metadata": {},
     "output_type": "execute_result"
    }
   ],
   "source": [
    "df['Product'].value_counts()"
   ]
  },
  {
   "cell_type": "markdown",
   "id": "5e7909f5",
   "metadata": {},
   "source": [
    "# Data Pre-processing"
   ]
  },
  {
   "cell_type": "markdown",
   "id": "ed449d99",
   "metadata": {},
   "source": [
    "# Creating DataFrame with the help of Pandas and Numpy"
   ]
  },
  {
   "cell_type": "code",
   "execution_count": 14,
   "id": "5d358a3c",
   "metadata": {},
   "outputs": [],
   "source": [
    "order_label = {'Basic':3, 'Standard':2, 'Premium':1}"
   ]
  },
  {
   "cell_type": "code",
   "execution_count": 15,
   "id": "e7fbacf5",
   "metadata": {},
   "outputs": [],
   "source": [
    "df['Product_label'] = df['Product'].map(order_label)"
   ]
  },
  {
   "cell_type": "code",
   "execution_count": 16,
   "id": "a4309a90",
   "metadata": {},
   "outputs": [
    {
     "data": {
      "text/html": [
       "<div>\n",
       "<style scoped>\n",
       "    .dataframe tbody tr th:only-of-type {\n",
       "        vertical-align: middle;\n",
       "    }\n",
       "\n",
       "    .dataframe tbody tr th {\n",
       "        vertical-align: top;\n",
       "    }\n",
       "\n",
       "    .dataframe thead th {\n",
       "        text-align: right;\n",
       "    }\n",
       "</style>\n",
       "<table border=\"1\" class=\"dataframe\">\n",
       "  <thead>\n",
       "    <tr style=\"text-align: right;\">\n",
       "      <th></th>\n",
       "      <th>Location</th>\n",
       "      <th>Region</th>\n",
       "      <th>Construction</th>\n",
       "      <th>Earthquake</th>\n",
       "      <th>Flood</th>\n",
       "      <th>Product</th>\n",
       "      <th>Product_label</th>\n",
       "    </tr>\n",
       "  </thead>\n",
       "  <tbody>\n",
       "    <tr>\n",
       "      <th>0</th>\n",
       "      <td>Urban</td>\n",
       "      <td>East</td>\n",
       "      <td>Frame</td>\n",
       "      <td>N</td>\n",
       "      <td>N</td>\n",
       "      <td>Standard</td>\n",
       "      <td>2</td>\n",
       "    </tr>\n",
       "    <tr>\n",
       "      <th>1</th>\n",
       "      <td>Urban</td>\n",
       "      <td>East</td>\n",
       "      <td>Fire Resist</td>\n",
       "      <td>Y</td>\n",
       "      <td>Y</td>\n",
       "      <td>Basic</td>\n",
       "      <td>3</td>\n",
       "    </tr>\n",
       "    <tr>\n",
       "      <th>2</th>\n",
       "      <td>Rural</td>\n",
       "      <td>Midwest</td>\n",
       "      <td>Frame</td>\n",
       "      <td>N</td>\n",
       "      <td>N</td>\n",
       "      <td>Basic</td>\n",
       "      <td>3</td>\n",
       "    </tr>\n",
       "    <tr>\n",
       "      <th>3</th>\n",
       "      <td>Urban</td>\n",
       "      <td>East</td>\n",
       "      <td>Frame</td>\n",
       "      <td>Y</td>\n",
       "      <td>Y</td>\n",
       "      <td>Standard</td>\n",
       "      <td>2</td>\n",
       "    </tr>\n",
       "    <tr>\n",
       "      <th>4</th>\n",
       "      <td>Urban</td>\n",
       "      <td>East</td>\n",
       "      <td>Masonry</td>\n",
       "      <td>N</td>\n",
       "      <td>N</td>\n",
       "      <td>Premium</td>\n",
       "      <td>1</td>\n",
       "    </tr>\n",
       "  </tbody>\n",
       "</table>\n",
       "</div>"
      ],
      "text/plain": [
       "  Location   Region Construction Earthquake Flood   Product  Product_label\n",
       "0    Urban     East        Frame          N     N  Standard              2\n",
       "1    Urban     East  Fire Resist          Y     Y     Basic              3\n",
       "2    Rural  Midwest        Frame          N     N     Basic              3\n",
       "3    Urban     East        Frame          Y     Y  Standard              2\n",
       "4    Urban     East      Masonry          N     N   Premium              1"
      ]
     },
     "execution_count": 16,
     "metadata": {},
     "output_type": "execute_result"
    }
   ],
   "source": [
    "df.head()"
   ]
  },
  {
   "cell_type": "code",
   "execution_count": 17,
   "id": "7fde7889",
   "metadata": {},
   "outputs": [],
   "source": [
    "df = df.drop(['Product'],axis=1)"
   ]
  },
  {
   "cell_type": "code",
   "execution_count": 18,
   "id": "dd87080d",
   "metadata": {},
   "outputs": [
    {
     "data": {
      "text/html": [
       "<div>\n",
       "<style scoped>\n",
       "    .dataframe tbody tr th:only-of-type {\n",
       "        vertical-align: middle;\n",
       "    }\n",
       "\n",
       "    .dataframe tbody tr th {\n",
       "        vertical-align: top;\n",
       "    }\n",
       "\n",
       "    .dataframe thead th {\n",
       "        text-align: right;\n",
       "    }\n",
       "</style>\n",
       "<table border=\"1\" class=\"dataframe\">\n",
       "  <thead>\n",
       "    <tr style=\"text-align: right;\">\n",
       "      <th></th>\n",
       "      <th>Location</th>\n",
       "      <th>Region</th>\n",
       "      <th>Construction</th>\n",
       "      <th>Earthquake</th>\n",
       "      <th>Flood</th>\n",
       "      <th>Product_label</th>\n",
       "    </tr>\n",
       "  </thead>\n",
       "  <tbody>\n",
       "    <tr>\n",
       "      <th>0</th>\n",
       "      <td>Urban</td>\n",
       "      <td>East</td>\n",
       "      <td>Frame</td>\n",
       "      <td>N</td>\n",
       "      <td>N</td>\n",
       "      <td>2</td>\n",
       "    </tr>\n",
       "    <tr>\n",
       "      <th>1</th>\n",
       "      <td>Urban</td>\n",
       "      <td>East</td>\n",
       "      <td>Fire Resist</td>\n",
       "      <td>Y</td>\n",
       "      <td>Y</td>\n",
       "      <td>3</td>\n",
       "    </tr>\n",
       "    <tr>\n",
       "      <th>2</th>\n",
       "      <td>Rural</td>\n",
       "      <td>Midwest</td>\n",
       "      <td>Frame</td>\n",
       "      <td>N</td>\n",
       "      <td>N</td>\n",
       "      <td>3</td>\n",
       "    </tr>\n",
       "    <tr>\n",
       "      <th>3</th>\n",
       "      <td>Urban</td>\n",
       "      <td>East</td>\n",
       "      <td>Frame</td>\n",
       "      <td>Y</td>\n",
       "      <td>Y</td>\n",
       "      <td>2</td>\n",
       "    </tr>\n",
       "    <tr>\n",
       "      <th>4</th>\n",
       "      <td>Urban</td>\n",
       "      <td>East</td>\n",
       "      <td>Masonry</td>\n",
       "      <td>N</td>\n",
       "      <td>N</td>\n",
       "      <td>1</td>\n",
       "    </tr>\n",
       "  </tbody>\n",
       "</table>\n",
       "</div>"
      ],
      "text/plain": [
       "  Location   Region Construction Earthquake Flood  Product_label\n",
       "0    Urban     East        Frame          N     N              2\n",
       "1    Urban     East  Fire Resist          Y     Y              3\n",
       "2    Rural  Midwest        Frame          N     N              3\n",
       "3    Urban     East        Frame          Y     Y              2\n",
       "4    Urban     East      Masonry          N     N              1"
      ]
     },
     "execution_count": 18,
     "metadata": {},
     "output_type": "execute_result"
    }
   ],
   "source": [
    "df.head()"
   ]
  },
  {
   "cell_type": "code",
   "execution_count": 19,
   "id": "7673a54b",
   "metadata": {},
   "outputs": [],
   "source": [
    "df_dummy = pd.get_dummies(df,drop_first=True)"
   ]
  },
  {
   "cell_type": "code",
   "execution_count": 20,
   "id": "b36e89cd",
   "metadata": {},
   "outputs": [
    {
     "data": {
      "text/html": [
       "<div>\n",
       "<style scoped>\n",
       "    .dataframe tbody tr th:only-of-type {\n",
       "        vertical-align: middle;\n",
       "    }\n",
       "\n",
       "    .dataframe tbody tr th {\n",
       "        vertical-align: top;\n",
       "    }\n",
       "\n",
       "    .dataframe thead th {\n",
       "        text-align: right;\n",
       "    }\n",
       "</style>\n",
       "<table border=\"1\" class=\"dataframe\">\n",
       "  <thead>\n",
       "    <tr style=\"text-align: right;\">\n",
       "      <th></th>\n",
       "      <th>Product_label</th>\n",
       "      <th>Location_Urban</th>\n",
       "      <th>Region_East</th>\n",
       "      <th>Region_Midwest</th>\n",
       "      <th>Region_Northeast</th>\n",
       "      <th>Construction_Frame</th>\n",
       "      <th>Construction_Masonry</th>\n",
       "      <th>Construction_Metal Clad</th>\n",
       "      <th>Earthquake_Y</th>\n",
       "      <th>Flood_Y</th>\n",
       "    </tr>\n",
       "  </thead>\n",
       "  <tbody>\n",
       "    <tr>\n",
       "      <th>0</th>\n",
       "      <td>2</td>\n",
       "      <td>1</td>\n",
       "      <td>1</td>\n",
       "      <td>0</td>\n",
       "      <td>0</td>\n",
       "      <td>1</td>\n",
       "      <td>0</td>\n",
       "      <td>0</td>\n",
       "      <td>0</td>\n",
       "      <td>0</td>\n",
       "    </tr>\n",
       "    <tr>\n",
       "      <th>1</th>\n",
       "      <td>3</td>\n",
       "      <td>1</td>\n",
       "      <td>1</td>\n",
       "      <td>0</td>\n",
       "      <td>0</td>\n",
       "      <td>0</td>\n",
       "      <td>0</td>\n",
       "      <td>0</td>\n",
       "      <td>1</td>\n",
       "      <td>1</td>\n",
       "    </tr>\n",
       "    <tr>\n",
       "      <th>2</th>\n",
       "      <td>3</td>\n",
       "      <td>0</td>\n",
       "      <td>0</td>\n",
       "      <td>1</td>\n",
       "      <td>0</td>\n",
       "      <td>1</td>\n",
       "      <td>0</td>\n",
       "      <td>0</td>\n",
       "      <td>0</td>\n",
       "      <td>0</td>\n",
       "    </tr>\n",
       "    <tr>\n",
       "      <th>3</th>\n",
       "      <td>2</td>\n",
       "      <td>1</td>\n",
       "      <td>1</td>\n",
       "      <td>0</td>\n",
       "      <td>0</td>\n",
       "      <td>1</td>\n",
       "      <td>0</td>\n",
       "      <td>0</td>\n",
       "      <td>1</td>\n",
       "      <td>1</td>\n",
       "    </tr>\n",
       "    <tr>\n",
       "      <th>4</th>\n",
       "      <td>1</td>\n",
       "      <td>1</td>\n",
       "      <td>1</td>\n",
       "      <td>0</td>\n",
       "      <td>0</td>\n",
       "      <td>0</td>\n",
       "      <td>1</td>\n",
       "      <td>0</td>\n",
       "      <td>0</td>\n",
       "      <td>0</td>\n",
       "    </tr>\n",
       "  </tbody>\n",
       "</table>\n",
       "</div>"
      ],
      "text/plain": [
       "   Product_label  Location_Urban  Region_East  Region_Midwest  \\\n",
       "0              2               1            1               0   \n",
       "1              3               1            1               0   \n",
       "2              3               0            0               1   \n",
       "3              2               1            1               0   \n",
       "4              1               1            1               0   \n",
       "\n",
       "   Region_Northeast  Construction_Frame  Construction_Masonry  \\\n",
       "0                 0                   1                     0   \n",
       "1                 0                   0                     0   \n",
       "2                 0                   1                     0   \n",
       "3                 0                   1                     0   \n",
       "4                 0                   0                     1   \n",
       "\n",
       "   Construction_Metal Clad  Earthquake_Y  Flood_Y  \n",
       "0                        0             0        0  \n",
       "1                        0             1        1  \n",
       "2                        0             0        0  \n",
       "3                        0             1        1  \n",
       "4                        0             0        0  "
      ]
     },
     "execution_count": 20,
     "metadata": {},
     "output_type": "execute_result"
    }
   ],
   "source": [
    "df_dummy.head()"
   ]
  },
  {
   "cell_type": "code",
   "execution_count": 21,
   "id": "abbe0a6f",
   "metadata": {},
   "outputs": [
    {
     "data": {
      "text/plain": [
       "(500, 10)"
      ]
     },
     "execution_count": 21,
     "metadata": {},
     "output_type": "execute_result"
    }
   ],
   "source": [
    "df_dummy.shape"
   ]
  },
  {
   "cell_type": "code",
   "execution_count": 22,
   "id": "2a92f3e8",
   "metadata": {},
   "outputs": [
    {
     "data": {
      "text/html": [
       "<div>\n",
       "<style scoped>\n",
       "    .dataframe tbody tr th:only-of-type {\n",
       "        vertical-align: middle;\n",
       "    }\n",
       "\n",
       "    .dataframe tbody tr th {\n",
       "        vertical-align: top;\n",
       "    }\n",
       "\n",
       "    .dataframe thead th {\n",
       "        text-align: right;\n",
       "    }\n",
       "</style>\n",
       "<table border=\"1\" class=\"dataframe\">\n",
       "  <thead>\n",
       "    <tr style=\"text-align: right;\">\n",
       "      <th></th>\n",
       "      <th>Product_label</th>\n",
       "      <th>Location_Urban</th>\n",
       "      <th>Region_East</th>\n",
       "      <th>Region_Midwest</th>\n",
       "      <th>Region_Northeast</th>\n",
       "      <th>Construction_Frame</th>\n",
       "      <th>Construction_Masonry</th>\n",
       "      <th>Construction_Metal Clad</th>\n",
       "      <th>Earthquake_Y</th>\n",
       "      <th>Flood_Y</th>\n",
       "    </tr>\n",
       "  </thead>\n",
       "  <tbody>\n",
       "    <tr>\n",
       "      <th>count</th>\n",
       "      <td>500.000000</td>\n",
       "      <td>500.000000</td>\n",
       "      <td>500.000000</td>\n",
       "      <td>500.000000</td>\n",
       "      <td>500.000000</td>\n",
       "      <td>500.000000</td>\n",
       "      <td>500.000000</td>\n",
       "      <td>500.000000</td>\n",
       "      <td>500.000000</td>\n",
       "      <td>500.000000</td>\n",
       "    </tr>\n",
       "    <tr>\n",
       "      <th>mean</th>\n",
       "      <td>2.018000</td>\n",
       "      <td>0.810000</td>\n",
       "      <td>0.674000</td>\n",
       "      <td>0.216000</td>\n",
       "      <td>0.068000</td>\n",
       "      <td>0.644000</td>\n",
       "      <td>0.216000</td>\n",
       "      <td>0.062000</td>\n",
       "      <td>0.512000</td>\n",
       "      <td>0.498000</td>\n",
       "    </tr>\n",
       "    <tr>\n",
       "      <th>std</th>\n",
       "      <td>0.736724</td>\n",
       "      <td>0.392694</td>\n",
       "      <td>0.469217</td>\n",
       "      <td>0.411926</td>\n",
       "      <td>0.251998</td>\n",
       "      <td>0.479295</td>\n",
       "      <td>0.411926</td>\n",
       "      <td>0.241397</td>\n",
       "      <td>0.500357</td>\n",
       "      <td>0.500497</td>\n",
       "    </tr>\n",
       "    <tr>\n",
       "      <th>min</th>\n",
       "      <td>1.000000</td>\n",
       "      <td>0.000000</td>\n",
       "      <td>0.000000</td>\n",
       "      <td>0.000000</td>\n",
       "      <td>0.000000</td>\n",
       "      <td>0.000000</td>\n",
       "      <td>0.000000</td>\n",
       "      <td>0.000000</td>\n",
       "      <td>0.000000</td>\n",
       "      <td>0.000000</td>\n",
       "    </tr>\n",
       "    <tr>\n",
       "      <th>25%</th>\n",
       "      <td>1.000000</td>\n",
       "      <td>1.000000</td>\n",
       "      <td>0.000000</td>\n",
       "      <td>0.000000</td>\n",
       "      <td>0.000000</td>\n",
       "      <td>0.000000</td>\n",
       "      <td>0.000000</td>\n",
       "      <td>0.000000</td>\n",
       "      <td>0.000000</td>\n",
       "      <td>0.000000</td>\n",
       "    </tr>\n",
       "    <tr>\n",
       "      <th>50%</th>\n",
       "      <td>2.000000</td>\n",
       "      <td>1.000000</td>\n",
       "      <td>1.000000</td>\n",
       "      <td>0.000000</td>\n",
       "      <td>0.000000</td>\n",
       "      <td>1.000000</td>\n",
       "      <td>0.000000</td>\n",
       "      <td>0.000000</td>\n",
       "      <td>1.000000</td>\n",
       "      <td>0.000000</td>\n",
       "    </tr>\n",
       "    <tr>\n",
       "      <th>75%</th>\n",
       "      <td>3.000000</td>\n",
       "      <td>1.000000</td>\n",
       "      <td>1.000000</td>\n",
       "      <td>0.000000</td>\n",
       "      <td>0.000000</td>\n",
       "      <td>1.000000</td>\n",
       "      <td>0.000000</td>\n",
       "      <td>0.000000</td>\n",
       "      <td>1.000000</td>\n",
       "      <td>1.000000</td>\n",
       "    </tr>\n",
       "    <tr>\n",
       "      <th>max</th>\n",
       "      <td>3.000000</td>\n",
       "      <td>1.000000</td>\n",
       "      <td>1.000000</td>\n",
       "      <td>1.000000</td>\n",
       "      <td>1.000000</td>\n",
       "      <td>1.000000</td>\n",
       "      <td>1.000000</td>\n",
       "      <td>1.000000</td>\n",
       "      <td>1.000000</td>\n",
       "      <td>1.000000</td>\n",
       "    </tr>\n",
       "  </tbody>\n",
       "</table>\n",
       "</div>"
      ],
      "text/plain": [
       "       Product_label  Location_Urban  Region_East  Region_Midwest  \\\n",
       "count     500.000000      500.000000   500.000000      500.000000   \n",
       "mean        2.018000        0.810000     0.674000        0.216000   \n",
       "std         0.736724        0.392694     0.469217        0.411926   \n",
       "min         1.000000        0.000000     0.000000        0.000000   \n",
       "25%         1.000000        1.000000     0.000000        0.000000   \n",
       "50%         2.000000        1.000000     1.000000        0.000000   \n",
       "75%         3.000000        1.000000     1.000000        0.000000   \n",
       "max         3.000000        1.000000     1.000000        1.000000   \n",
       "\n",
       "       Region_Northeast  Construction_Frame  Construction_Masonry  \\\n",
       "count        500.000000          500.000000            500.000000   \n",
       "mean           0.068000            0.644000              0.216000   \n",
       "std            0.251998            0.479295              0.411926   \n",
       "min            0.000000            0.000000              0.000000   \n",
       "25%            0.000000            0.000000              0.000000   \n",
       "50%            0.000000            1.000000              0.000000   \n",
       "75%            0.000000            1.000000              0.000000   \n",
       "max            1.000000            1.000000              1.000000   \n",
       "\n",
       "       Construction_Metal Clad  Earthquake_Y     Flood_Y  \n",
       "count               500.000000    500.000000  500.000000  \n",
       "mean                  0.062000      0.512000    0.498000  \n",
       "std                   0.241397      0.500357    0.500497  \n",
       "min                   0.000000      0.000000    0.000000  \n",
       "25%                   0.000000      0.000000    0.000000  \n",
       "50%                   0.000000      1.000000    0.000000  \n",
       "75%                   0.000000      1.000000    1.000000  \n",
       "max                   1.000000      1.000000    1.000000  "
      ]
     },
     "execution_count": 22,
     "metadata": {},
     "output_type": "execute_result"
    }
   ],
   "source": [
    "df_dummy.describe()"
   ]
  },
  {
   "cell_type": "code",
   "execution_count": 23,
   "id": "24c384e8",
   "metadata": {},
   "outputs": [
    {
     "data": {
      "text/plain": [
       "Index(['Product_label', 'Location_Urban', 'Region_East', 'Region_Midwest',\n",
       "       'Region_Northeast', 'Construction_Frame', 'Construction_Masonry',\n",
       "       'Construction_Metal Clad', 'Earthquake_Y', 'Flood_Y'],\n",
       "      dtype='object')"
      ]
     },
     "execution_count": 23,
     "metadata": {},
     "output_type": "execute_result"
    }
   ],
   "source": [
    "df_dummy.columns"
   ]
  },
  {
   "cell_type": "code",
   "execution_count": 24,
   "id": "61869e79",
   "metadata": {},
   "outputs": [
    {
     "data": {
      "text/plain": [
       "<seaborn.axisgrid.PairGrid at 0x1ce4c447e50>"
      ]
     },
     "execution_count": 24,
     "metadata": {},
     "output_type": "execute_result"
    },
    {
     "data": {
      "image/png": "[encoded data removed]",
      "text/plain": [
       "<Figure size 795.125x720 with 20 Axes>"
      ]
     },
     "metadata": {
      "needs_background": "light"
     },
     "output_type": "display_data"
    }
   ],
   "source": [
    "sns.pairplot(df_dummy, hue = 'Product_label', \n",
    "             vars = [ 'Location_Urban', 'Region_East', 'Region_Midwest',\n",
    "       'Region_Northeast'] )"
   ]
  },
  {
   "cell_type": "code",
   "execution_count": 25,
   "id": "3e544ae8",
   "metadata": {},
   "outputs": [
    {
     "name": "stderr",
     "output_type": "stream",
     "text": [
      "c:\\users\\om\\appdata\\local\\programs\\python\\python39\\lib\\site-packages\\seaborn\\distributions.py:306: UserWarning: Dataset has 0 variance; skipping density estimate.\n",
      "  warnings.warn(msg, UserWarning)\n",
      "c:\\users\\om\\appdata\\local\\programs\\python\\python39\\lib\\site-packages\\seaborn\\distributions.py:306: UserWarning: Dataset has 0 variance; skipping density estimate.\n",
      "  warnings.warn(msg, UserWarning)\n",
      "c:\\users\\om\\appdata\\local\\programs\\python\\python39\\lib\\site-packages\\seaborn\\distributions.py:306: UserWarning: Dataset has 0 variance; skipping density estimate.\n",
      "  warnings.warn(msg, UserWarning)\n",
      "c:\\users\\om\\appdata\\local\\programs\\python\\python39\\lib\\site-packages\\seaborn\\distributions.py:306: UserWarning: Dataset has 0 variance; skipping density estimate.\n",
      "  warnings.warn(msg, UserWarning)\n"
     ]
    },
    {
     "data": {
      "text/plain": [
       "<seaborn.axisgrid.PairGrid at 0x1ce4f2591f0>"
      ]
     },
     "execution_count": 25,
     "metadata": {},
     "output_type": "execute_result"
    },
    {
     "data": {
      "image/png": "[encoded data removed]",
      "text/plain": [
       "<Figure size 975.125x900 with 30 Axes>"
      ]
     },
     "metadata": {
      "needs_background": "light"
     },
     "output_type": "display_data"
    }
   ],
   "source": [
    "sns.pairplot(df_dummy, hue = 'Product_label', \n",
    "             vars = [ 'Construction_Frame', 'Construction_Masonry',\n",
    "       'Construction_Metal Clad', 'Earthquake_Y', 'Flood_Y'] )"
   ]
  },
  {
   "cell_type": "code",
   "execution_count": 26,
   "id": "8d5e3f00",
   "metadata": {},
   "outputs": [
    {
     "data": {
      "text/plain": [
       "<AxesSubplot:>"
      ]
     },
     "execution_count": 26,
     "metadata": {},
     "output_type": "execute_result"
    },
    {
     "data": {
      "image/png": "[encoded data removed]",
      "text/plain": [
       "<Figure size 1440x1440 with 2 Axes>"
      ]
     },
     "metadata": {
      "needs_background": "light"
     },
     "output_type": "display_data"
    }
   ],
   "source": [
    "plt.figure(figsize=(20,20))\n",
    "sns.heatmap(df_dummy.corr(), annot = True, cmap ='coolwarm', linewidths=2)"
   ]
  },
  {
   "cell_type": "markdown",
   "id": "63295852",
   "metadata": {},
   "source": [
    "# Finding the co-relation between the Features and Target"
   ]
  },
  {
   "cell_type": "code",
   "execution_count": 27,
   "id": "f253e8f5",
   "metadata": {},
   "outputs": [
    {
     "data": {
      "text/html": [
       "<div>\n",
       "<style scoped>\n",
       "    .dataframe tbody tr th:only-of-type {\n",
       "        vertical-align: middle;\n",
       "    }\n",
       "\n",
       "    .dataframe tbody tr th {\n",
       "        vertical-align: top;\n",
       "    }\n",
       "\n",
       "    .dataframe thead th {\n",
       "        text-align: right;\n",
       "    }\n",
       "</style>\n",
       "<table border=\"1\" class=\"dataframe\">\n",
       "  <thead>\n",
       "    <tr style=\"text-align: right;\">\n",
       "      <th></th>\n",
       "      <th>Product_label</th>\n",
       "      <th>Location_Urban</th>\n",
       "      <th>Region_East</th>\n",
       "      <th>Region_Midwest</th>\n",
       "      <th>Region_Northeast</th>\n",
       "      <th>Construction_Frame</th>\n",
       "      <th>Construction_Masonry</th>\n",
       "      <th>Construction_Metal Clad</th>\n",
       "      <th>Earthquake_Y</th>\n",
       "      <th>Flood_Y</th>\n",
       "    </tr>\n",
       "  </thead>\n",
       "  <tbody>\n",
       "    <tr>\n",
       "      <th>Product_label</th>\n",
       "      <td>1.000000</td>\n",
       "      <td>-0.320648</td>\n",
       "      <td>-0.006180</td>\n",
       "      <td>-0.224150</td>\n",
       "      <td>0.220076</td>\n",
       "      <td>0.545991</td>\n",
       "      <td>-0.666585</td>\n",
       "      <td>-0.355609</td>\n",
       "      <td>-0.090289</td>\n",
       "      <td>-0.111318</td>\n",
       "    </tr>\n",
       "    <tr>\n",
       "      <th>Location_Urban</th>\n",
       "      <td>-0.320648</td>\n",
       "      <td>1.000000</td>\n",
       "      <td>0.043831</td>\n",
       "      <td>-0.080279</td>\n",
       "      <td>-0.010936</td>\n",
       "      <td>-0.125852</td>\n",
       "      <td>0.155107</td>\n",
       "      <td>-0.150308</td>\n",
       "      <td>0.455292</td>\n",
       "      <td>0.461996</td>\n",
       "    </tr>\n",
       "    <tr>\n",
       "      <th>Region_East</th>\n",
       "      <td>-0.006180</td>\n",
       "      <td>0.043831</td>\n",
       "      <td>1.000000</td>\n",
       "      <td>-0.754727</td>\n",
       "      <td>-0.388390</td>\n",
       "      <td>0.213613</td>\n",
       "      <td>-0.288155</td>\n",
       "      <td>0.037261</td>\n",
       "      <td>0.285575</td>\n",
       "      <td>0.257488</td>\n",
       "    </tr>\n",
       "    <tr>\n",
       "      <th>Region_Midwest</th>\n",
       "      <td>-0.224150</td>\n",
       "      <td>-0.080279</td>\n",
       "      <td>-0.754727</td>\n",
       "      <td>1.000000</td>\n",
       "      <td>-0.141780</td>\n",
       "      <td>-0.279660</td>\n",
       "      <td>0.362245</td>\n",
       "      <td>-0.074487</td>\n",
       "      <td>-0.187615</td>\n",
       "      <td>-0.172865</td>\n",
       "    </tr>\n",
       "    <tr>\n",
       "      <th>Region_Northeast</th>\n",
       "      <td>0.220076</td>\n",
       "      <td>-0.010936</td>\n",
       "      <td>-0.388390</td>\n",
       "      <td>-0.141780</td>\n",
       "      <td>1.000000</td>\n",
       "      <td>0.018318</td>\n",
       "      <td>-0.045252</td>\n",
       "      <td>0.062329</td>\n",
       "      <td>-0.085953</td>\n",
       "      <td>-0.062476</td>\n",
       "    </tr>\n",
       "    <tr>\n",
       "      <th>Construction_Frame</th>\n",
       "      <td>0.545991</td>\n",
       "      <td>-0.125852</td>\n",
       "      <td>0.213613</td>\n",
       "      <td>-0.279660</td>\n",
       "      <td>0.018318</td>\n",
       "      <td>1.000000</td>\n",
       "      <td>-0.705971</td>\n",
       "      <td>-0.345790</td>\n",
       "      <td>0.009493</td>\n",
       "      <td>-0.036390</td>\n",
       "    </tr>\n",
       "    <tr>\n",
       "      <th>Construction_Masonry</th>\n",
       "      <td>-0.666585</td>\n",
       "      <td>0.155107</td>\n",
       "      <td>-0.288155</td>\n",
       "      <td>0.362245</td>\n",
       "      <td>-0.045252</td>\n",
       "      <td>-0.705971</td>\n",
       "      <td>1.000000</td>\n",
       "      <td>-0.134947</td>\n",
       "      <td>-0.061216</td>\n",
       "      <td>-0.017341</td>\n",
       "    </tr>\n",
       "    <tr>\n",
       "      <th>Construction_Metal Clad</th>\n",
       "      <td>-0.355609</td>\n",
       "      <td>-0.150308</td>\n",
       "      <td>0.037261</td>\n",
       "      <td>-0.074487</td>\n",
       "      <td>0.062329</td>\n",
       "      <td>-0.345790</td>\n",
       "      <td>-0.134947</td>\n",
       "      <td>1.000000</td>\n",
       "      <td>-0.114017</td>\n",
       "      <td>-0.106787</td>\n",
       "    </tr>\n",
       "    <tr>\n",
       "      <th>Earthquake_Y</th>\n",
       "      <td>-0.090289</td>\n",
       "      <td>0.455292</td>\n",
       "      <td>0.285575</td>\n",
       "      <td>-0.187615</td>\n",
       "      <td>-0.085953</td>\n",
       "      <td>0.009493</td>\n",
       "      <td>-0.061216</td>\n",
       "      <td>-0.114017</td>\n",
       "      <td>1.000000</td>\n",
       "      <td>0.860351</td>\n",
       "    </tr>\n",
       "    <tr>\n",
       "      <th>Flood_Y</th>\n",
       "      <td>-0.111318</td>\n",
       "      <td>0.461996</td>\n",
       "      <td>0.257488</td>\n",
       "      <td>-0.172865</td>\n",
       "      <td>-0.062476</td>\n",
       "      <td>-0.036390</td>\n",
       "      <td>-0.017341</td>\n",
       "      <td>-0.106787</td>\n",
       "      <td>0.860351</td>\n",
       "      <td>1.000000</td>\n",
       "    </tr>\n",
       "  </tbody>\n",
       "</table>\n",
       "</div>"
      ],
      "text/plain": [
       "                         Product_label  Location_Urban  Region_East  \\\n",
       "Product_label                 1.000000       -0.320648    -0.006180   \n",
       "Location_Urban               -0.320648        1.000000     0.043831   \n",
       "Region_East                  -0.006180        0.043831     1.000000   \n",
       "Region_Midwest               -0.224150       -0.080279    -0.754727   \n",
       "Region_Northeast              0.220076       -0.010936    -0.388390   \n",
       "Construction_Frame            0.545991       -0.125852     0.213613   \n",
       "Construction_Masonry         -0.666585        0.155107    -0.288155   \n",
       "Construction_Metal Clad      -0.355609       -0.150308     0.037261   \n",
       "Earthquake_Y                 -0.090289        0.455292     0.285575   \n",
       "Flood_Y                      -0.111318        0.461996     0.257488   \n",
       "\n",
       "                         Region_Midwest  Region_Northeast  Construction_Frame  \\\n",
       "Product_label                 -0.224150          0.220076            0.545991   \n",
       "Location_Urban                -0.080279         -0.010936           -0.125852   \n",
       "Region_East                   -0.754727         -0.388390            0.213613   \n",
       "Region_Midwest                 1.000000         -0.141780           -0.279660   \n",
       "Region_Northeast              -0.141780          1.000000            0.018318   \n",
       "Construction_Frame            -0.279660          0.018318            1.000000   \n",
       "Construction_Masonry           0.362245         -0.045252           -0.705971   \n",
       "Construction_Metal Clad       -0.074487          0.062329           -0.345790   \n",
       "Earthquake_Y                  -0.187615         -0.085953            0.009493   \n",
       "Flood_Y                       -0.172865         -0.062476           -0.036390   \n",
       "\n",
       "                         Construction_Masonry  Construction_Metal Clad  \\\n",
       "Product_label                       -0.666585                -0.355609   \n",
       "Location_Urban                       0.155107                -0.150308   \n",
       "Region_East                         -0.288155                 0.037261   \n",
       "Region_Midwest                       0.362245                -0.074487   \n",
       "Region_Northeast                    -0.045252                 0.062329   \n",
       "Construction_Frame                  -0.705971                -0.345790   \n",
       "Construction_Masonry                 1.000000                -0.134947   \n",
       "Construction_Metal Clad             -0.134947                 1.000000   \n",
       "Earthquake_Y                        -0.061216                -0.114017   \n",
       "Flood_Y                             -0.017341                -0.106787   \n",
       "\n",
       "                         Earthquake_Y   Flood_Y  \n",
       "Product_label               -0.090289 -0.111318  \n",
       "Location_Urban               0.455292  0.461996  \n",
       "Region_East                  0.285575  0.257488  \n",
       "Region_Midwest              -0.187615 -0.172865  \n",
       "Region_Northeast            -0.085953 -0.062476  \n",
       "Construction_Frame           0.009493 -0.036390  \n",
       "Construction_Masonry        -0.061216 -0.017341  \n",
       "Construction_Metal Clad     -0.114017 -0.106787  \n",
       "Earthquake_Y                 1.000000  0.860351  \n",
       "Flood_Y                      0.860351  1.000000  "
      ]
     },
     "execution_count": 27,
     "metadata": {},
     "output_type": "execute_result"
    }
   ],
   "source": [
    "df_dummy.corr()"
   ]
  },
  {
   "cell_type": "code",
   "execution_count": 28,
   "id": "4c834ae1",
   "metadata": {},
   "outputs": [],
   "source": [
    "corr_matrix = df_dummy.corr()"
   ]
  },
  {
   "cell_type": "code",
   "execution_count": 29,
   "id": "3edf6ff8",
   "metadata": {},
   "outputs": [
    {
     "data": {
      "text/plain": [
       "Construction_Masonry      -0.666585\n",
       "Construction_Metal Clad   -0.355609\n",
       "Location_Urban            -0.320648\n",
       "Region_Midwest            -0.224150\n",
       "Flood_Y                   -0.111318\n",
       "Earthquake_Y              -0.090289\n",
       "Region_East               -0.006180\n",
       "Region_Northeast           0.220076\n",
       "Construction_Frame         0.545991\n",
       "Product_label              1.000000\n",
       "Name: Product_label, dtype: float64"
      ]
     },
     "execution_count": 29,
     "metadata": {},
     "output_type": "execute_result"
    }
   ],
   "source": [
    "corr_matrix[\"Product_label\"].sort_values(ascending=True)"
   ]
  },
  {
   "cell_type": "code",
   "execution_count": 30,
   "id": "dc03c2a9",
   "metadata": {},
   "outputs": [],
   "source": [
    "x = df_dummy.drop('Product_label',axis = 'columns')"
   ]
  },
  {
   "cell_type": "code",
   "execution_count": 31,
   "id": "d06fba5c",
   "metadata": {},
   "outputs": [
    {
     "data": {
      "text/html": [
       "<div>\n",
       "<style scoped>\n",
       "    .dataframe tbody tr th:only-of-type {\n",
       "        vertical-align: middle;\n",
       "    }\n",
       "\n",
       "    .dataframe tbody tr th {\n",
       "        vertical-align: top;\n",
       "    }\n",
       "\n",
       "    .dataframe thead th {\n",
       "        text-align: right;\n",
       "    }\n",
       "</style>\n",
       "<table border=\"1\" class=\"dataframe\">\n",
       "  <thead>\n",
       "    <tr style=\"text-align: right;\">\n",
       "      <th></th>\n",
       "      <th>Location_Urban</th>\n",
       "      <th>Region_East</th>\n",
       "      <th>Region_Midwest</th>\n",
       "      <th>Region_Northeast</th>\n",
       "      <th>Construction_Frame</th>\n",
       "      <th>Construction_Masonry</th>\n",
       "      <th>Construction_Metal Clad</th>\n",
       "      <th>Earthquake_Y</th>\n",
       "      <th>Flood_Y</th>\n",
       "    </tr>\n",
       "  </thead>\n",
       "  <tbody>\n",
       "    <tr>\n",
       "      <th>0</th>\n",
       "      <td>1</td>\n",
       "      <td>1</td>\n",
       "      <td>0</td>\n",
       "      <td>0</td>\n",
       "      <td>1</td>\n",
       "      <td>0</td>\n",
       "      <td>0</td>\n",
       "      <td>0</td>\n",
       "      <td>0</td>\n",
       "    </tr>\n",
       "    <tr>\n",
       "      <th>1</th>\n",
       "      <td>1</td>\n",
       "      <td>1</td>\n",
       "      <td>0</td>\n",
       "      <td>0</td>\n",
       "      <td>0</td>\n",
       "      <td>0</td>\n",
       "      <td>0</td>\n",
       "      <td>1</td>\n",
       "      <td>1</td>\n",
       "    </tr>\n",
       "    <tr>\n",
       "      <th>2</th>\n",
       "      <td>0</td>\n",
       "      <td>0</td>\n",
       "      <td>1</td>\n",
       "      <td>0</td>\n",
       "      <td>1</td>\n",
       "      <td>0</td>\n",
       "      <td>0</td>\n",
       "      <td>0</td>\n",
       "      <td>0</td>\n",
       "    </tr>\n",
       "    <tr>\n",
       "      <th>3</th>\n",
       "      <td>1</td>\n",
       "      <td>1</td>\n",
       "      <td>0</td>\n",
       "      <td>0</td>\n",
       "      <td>1</td>\n",
       "      <td>0</td>\n",
       "      <td>0</td>\n",
       "      <td>1</td>\n",
       "      <td>1</td>\n",
       "    </tr>\n",
       "    <tr>\n",
       "      <th>4</th>\n",
       "      <td>1</td>\n",
       "      <td>1</td>\n",
       "      <td>0</td>\n",
       "      <td>0</td>\n",
       "      <td>0</td>\n",
       "      <td>1</td>\n",
       "      <td>0</td>\n",
       "      <td>0</td>\n",
       "      <td>0</td>\n",
       "    </tr>\n",
       "  </tbody>\n",
       "</table>\n",
       "</div>"
      ],
      "text/plain": [
       "   Location_Urban  Region_East  Region_Midwest  Region_Northeast  \\\n",
       "0               1            1               0                 0   \n",
       "1               1            1               0                 0   \n",
       "2               0            0               1                 0   \n",
       "3               1            1               0                 0   \n",
       "4               1            1               0                 0   \n",
       "\n",
       "   Construction_Frame  Construction_Masonry  Construction_Metal Clad  \\\n",
       "0                   1                     0                        0   \n",
       "1                   0                     0                        0   \n",
       "2                   1                     0                        0   \n",
       "3                   1                     0                        0   \n",
       "4                   0                     1                        0   \n",
       "\n",
       "   Earthquake_Y  Flood_Y  \n",
       "0             0        0  \n",
       "1             1        1  \n",
       "2             0        0  \n",
       "3             1        1  \n",
       "4             0        0  "
      ]
     },
     "execution_count": 31,
     "metadata": {},
     "output_type": "execute_result"
    }
   ],
   "source": [
    "x.head()"
   ]
  },
  {
   "cell_type": "code",
   "execution_count": 32,
   "id": "572cdc74",
   "metadata": {},
   "outputs": [],
   "source": [
    "y = df_dummy.Product_label"
   ]
  },
  {
   "cell_type": "code",
   "execution_count": 33,
   "id": "a05445e5",
   "metadata": {},
   "outputs": [
    {
     "data": {
      "text/plain": [
       "0    2\n",
       "1    3\n",
       "2    3\n",
       "3    2\n",
       "4    1\n",
       "Name: Product_label, dtype: int64"
      ]
     },
     "execution_count": 33,
     "metadata": {},
     "output_type": "execute_result"
    }
   ],
   "source": [
    "y.head()"
   ]
  },
  {
   "cell_type": "markdown",
   "id": "cd0a2bae",
   "metadata": {},
   "source": [
    "# Process to make data ready for Training and Testing"
   ]
  },
  {
   "cell_type": "code",
   "execution_count": 34,
   "id": "d9ce74cf",
   "metadata": {},
   "outputs": [],
   "source": [
    "from sklearn.model_selection import train_test_split"
   ]
  },
  {
   "cell_type": "code",
   "execution_count": 35,
   "id": "c97f97bb",
   "metadata": {},
   "outputs": [],
   "source": [
    "x_train, x_test, y_train, y_test = train_test_split(x, y,test_size = 0.2, stratify=y, random_state=50 )"
   ]
  },
  {
   "cell_type": "code",
   "execution_count": 36,
   "id": "f057b72d",
   "metadata": {},
   "outputs": [
    {
     "data": {
      "text/plain": [
       "(400, 9)"
      ]
     },
     "execution_count": 36,
     "metadata": {},
     "output_type": "execute_result"
    }
   ],
   "source": [
    "x_train.shape"
   ]
  },
  {
   "cell_type": "code",
   "execution_count": 37,
   "id": "0ecfcb61",
   "metadata": {},
   "outputs": [
    {
     "data": {
      "text/plain": [
       "(100, 9)"
      ]
     },
     "execution_count": 37,
     "metadata": {},
     "output_type": "execute_result"
    }
   ],
   "source": [
    "x_test.shape"
   ]
  },
  {
   "cell_type": "code",
   "execution_count": 38,
   "id": "f5ec17bd",
   "metadata": {},
   "outputs": [
    {
     "data": {
      "text/plain": [
       "(400,)"
      ]
     },
     "execution_count": 38,
     "metadata": {},
     "output_type": "execute_result"
    }
   ],
   "source": [
    "y_train.shape"
   ]
  },
  {
   "cell_type": "code",
   "execution_count": 39,
   "id": "006d3a88",
   "metadata": {},
   "outputs": [
    {
     "data": {
      "text/plain": [
       "(100,)"
      ]
     },
     "execution_count": 39,
     "metadata": {},
     "output_type": "execute_result"
    }
   ],
   "source": [
    "y_test.shape"
   ]
  },
  {
   "cell_type": "code",
   "execution_count": 40,
   "id": "4ee77015",
   "metadata": {},
   "outputs": [
    {
     "data": {
      "text/plain": [
       "2    183\n",
       "3    112\n",
       "1    105\n",
       "Name: Product_label, dtype: int64"
      ]
     },
     "execution_count": 40,
     "metadata": {},
     "output_type": "execute_result"
    }
   ],
   "source": [
    "y_train.value_counts()"
   ]
  },
  {
   "cell_type": "code",
   "execution_count": 41,
   "id": "5a0ab31e",
   "metadata": {},
   "outputs": [
    {
     "data": {
      "text/plain": [
       "2    46\n",
       "3    28\n",
       "1    26\n",
       "Name: Product_label, dtype: int64"
      ]
     },
     "execution_count": 41,
     "metadata": {},
     "output_type": "execute_result"
    }
   ],
   "source": [
    "y_test.value_counts()"
   ]
  },
  {
   "cell_type": "markdown",
   "id": "1e78fd93",
   "metadata": {},
   "source": [
    "# Step to Select possible Model's Training, Testing and Cross Validation for selected Model"
   ]
  },
  {
   "cell_type": "markdown",
   "id": "716d72c5",
   "metadata": {},
   "source": [
    "# RandomForestClassifier"
   ]
  },
  {
   "cell_type": "code",
   "execution_count": 42,
   "id": "3b2a113d",
   "metadata": {},
   "outputs": [
    {
     "data": {
      "text/plain": [
       "0.9880000000000001"
      ]
     },
     "execution_count": 42,
     "metadata": {},
     "output_type": "execute_result"
    }
   ],
   "source": [
    "from sklearn.model_selection import cross_val_score\n",
    "from sklearn.ensemble import RandomForestClassifier\n",
    "scores = cross_val_score(RandomForestClassifier(n_estimators=50), x, y, cv=5 )\n",
    "scores.mean()"
   ]
  },
  {
   "cell_type": "markdown",
   "id": "0f15525c",
   "metadata": {},
   "source": [
    "# DecisionTreeClassifier"
   ]
  },
  {
   "cell_type": "code",
   "execution_count": 43,
   "id": "6667a7dd",
   "metadata": {},
   "outputs": [
    {
     "data": {
      "text/plain": [
       "0.992"
      ]
     },
     "execution_count": 43,
     "metadata": {},
     "output_type": "execute_result"
    }
   ],
   "source": [
    "from sklearn.tree import DecisionTreeClassifier\n",
    "\n",
    "scores = cross_val_score(DecisionTreeClassifier(), x, y, cv=5 )\n",
    "scores.mean()"
   ]
  },
  {
   "cell_type": "markdown",
   "id": "b09af99b",
   "metadata": {},
   "source": [
    "# BaggingClassifier"
   ]
  },
  {
   "cell_type": "code",
   "execution_count": 44,
   "id": "251cc1e2",
   "metadata": {},
   "outputs": [
    {
     "data": {
      "text/plain": [
       "0.992"
      ]
     },
     "execution_count": 44,
     "metadata": {},
     "output_type": "execute_result"
    }
   ],
   "source": [
    "from sklearn.ensemble import BaggingClassifier\n",
    "bag_model = BaggingClassifier( base_estimator=DecisionTreeClassifier(),\n",
    "                            n_estimators=50,\n",
    "                            max_samples=0.8,\n",
    "                            oob_score=True,\n",
    "                            random_state=0                            \n",
    "                           )\n",
    "scores = cross_val_score(bag_model, x, y, cv=5 )\n",
    "scores.mean()"
   ]
  },
  {
   "cell_type": "code",
   "execution_count": 45,
   "id": "25258f51",
   "metadata": {},
   "outputs": [
    {
     "data": {
      "text/plain": [
       "0.995"
      ]
     },
     "execution_count": 45,
     "metadata": {},
     "output_type": "execute_result"
    }
   ],
   "source": [
    "bag_cls = BaggingClassifier( base_estimator=DecisionTreeClassifier(),\n",
    "                            n_estimators=50,\n",
    "                            max_samples=0.8,\n",
    "                            oob_score=True,\n",
    "                            random_state=0                            \n",
    "                           )\n",
    "bag_cls.fit(x_train, y_train)\n",
    "bag_cls.oob_score_"
   ]
  },
  {
   "cell_type": "code",
   "execution_count": 46,
   "id": "ae6b5fb3",
   "metadata": {},
   "outputs": [
    {
     "data": {
      "text/plain": [
       "0.98"
      ]
     },
     "execution_count": 46,
     "metadata": {},
     "output_type": "execute_result"
    }
   ],
   "source": [
    "bag_cls.score(x_test, y_test)"
   ]
  },
  {
   "cell_type": "code",
   "execution_count": 48,
   "id": "3196dd9f",
   "metadata": {},
   "outputs": [],
   "source": [
    "from sklearn.metrics import confusion_matrix\n",
    "from sklearn.metrics import classification_report\n",
    "from sklearn.metrics import accuracy_score\n"
   ]
  },
  {
   "cell_type": "code",
   "execution_count": 49,
   "id": "c72b80ba",
   "metadata": {},
   "outputs": [
    {
     "data": {
      "text/plain": [
       "0.98"
      ]
     },
     "execution_count": 49,
     "metadata": {},
     "output_type": "execute_result"
    }
   ],
   "source": [
    "y_pred_bag_cls = bag_cls.predict(x_test)\n",
    "accuracy_score(y_test, y_pred_bag_cls)"
   ]
  },
  {
   "cell_type": "code",
   "execution_count": 50,
   "id": "9a593510",
   "metadata": {},
   "outputs": [
    {
     "data": {
      "image/png": "[encoded data removed]",
      "text/plain": [
       "<Figure size 432x288 with 2 Axes>"
      ]
     },
     "metadata": {
      "needs_background": "light"
     },
     "output_type": "display_data"
    }
   ],
   "source": [
    "cm = confusion_matrix(y_test, y_pred_bag_cls)\n",
    "plt.title('Heatmap of Confusion Matrix', fontsize = 15)\n",
    "sns.heatmap(cm, annot = True)\n",
    "plt.show()"
   ]
  },
  {
   "cell_type": "code",
   "execution_count": 51,
   "id": "5e370954",
   "metadata": {},
   "outputs": [
    {
     "name": "stdout",
     "output_type": "stream",
     "text": [
      "              precision    recall  f1-score   support\n",
      "\n",
      "           1       1.00      0.96      0.98        26\n",
      "           2       1.00      0.98      0.99        46\n",
      "           3       0.93      1.00      0.97        28\n",
      "\n",
      "    accuracy                           0.98       100\n",
      "   macro avg       0.98      0.98      0.98       100\n",
      "weighted avg       0.98      0.98      0.98       100\n",
      "\n"
     ]
    }
   ],
   "source": [
    "print(classification_report(y_test, y_pred_bag_cls))"
   ]
  },
  {
   "cell_type": "markdown",
   "id": "5773ca15",
   "metadata": {},
   "source": [
    "# Best Model Deployment with the help of Pickle\n",
    "# Dump the best Model with all waights and values in binary"
   ]
  },
  {
   "cell_type": "code",
   "execution_count": 52,
   "id": "8a2d16ad",
   "metadata": {},
   "outputs": [],
   "source": [
    "## Pickle\n",
    "import pickle\n",
    " \n",
    "# save model\n",
    "pickle.dump(bag_cls, open('Product_Selection_Model', 'wb'))\n",
    " \n"
   ]
  },
  {
   "cell_type": "markdown",
   "id": "4b5e4439",
   "metadata": {},
   "source": [
    "# Load the Model with dump file and Prediction with the help of Model"
   ]
  },
  {
   "cell_type": "code",
   "execution_count": 54,
   "id": "c75b70e9",
   "metadata": {},
   "outputs": [
    {
     "name": "stdout",
     "output_type": "stream",
     "text": [
      "Confusion matrix of New_Product_Selection_model: \n",
      " [[25  0  1]\n",
      " [ 0 45  1]\n",
      " [ 0  0 28]] \n",
      "\n",
      "Accuracy of New_Product_Selection_model =  0.98\n"
     ]
    }
   ],
   "source": [
    "# load model\n",
    "New_Product_Selection_model = pickle.load(open('Product_Selection_Model', 'rb'))\n",
    " \n",
    "# predict the output\n",
    "y_pred_model = New_Product_Selection_model.predict(x_test)\n",
    " \n",
    "# confusion matrix\n",
    "print('Confusion matrix of New_Product_Selection_model: \\n',confusion_matrix(y_test, y_pred_model),'\\n')\n",
    " \n",
    "# show the accuracy\n",
    "print('Accuracy of New_Product_Selection_model = ',accuracy_score(y_test, y_pred_model))"
   ]
  },
  {
   "cell_type": "markdown",
   "id": "7b7a3d18",
   "metadata": {},
   "source": [
    "# After Model Deployment need to Monitor the Model and maintain necessary retrainings to achive maximum accuracy.\n",
    "\n",
    "### Conclusion: With the help of ML Model we can determine and Select the best product. This will help to eliminate the older lengthy processes which was in practice. With the help of ML Model we can reduce the manual intervention and reduce the threats and challenges like wrong product slection, exra time taken, overwait, overprocessing, duplicasy of works, waiting time in the cycle."
   ]
  },
  {
   "cell_type": "code",
   "execution_count": null,
   "id": "b416071f",
   "metadata": {},
   "outputs": [],
   "source": []
  }
 ],
 "metadata": {
  "kernelspec": {
   "display_name": "Python 3",
   "language": "python",
   "name": "python3"
  },
  "language_info": {
   "codemirror_mode": {
    "name": "ipython",
    "version": 3
   },
   "file_extension": ".py",
   "mimetype": "text/x-python",
   "name": "python",
   "nbconvert_exporter": "python",
   "pygments_lexer": "ipython3",
   "version": "3.9.1"
  }
 },
 "nbformat": 4,
 "nbformat_minor": 5
}
