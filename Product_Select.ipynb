{
 "cells": [
  {
   "cell_type": "code",
   "execution_count": 1,
   "id": "0ebe6b51",
   "metadata": {},
   "outputs": [],
   "source": [
    "import numpy as np\n",
    "import pandas as pd\n",
    "import matplotlib.pyplot as plt\n",
    "import seaborn as sns"
   ]
  },
  {
   "cell_type": "code",
   "execution_count": 2,
   "id": "36716d30",
   "metadata": {},
   "outputs": [],
   "source": [
    "path = r\"Product_data_new.csv\"\n",
    "df = pd.read_csv(path)"
   ]
  },
  {
   "cell_type": "code",
   "execution_count": 3,
   "id": "cd9906b8",
   "metadata": {},
   "outputs": [
    {
     "data": {
      "text/html": [
       "<div>\n",
       "<style scoped>\n",
       "    .dataframe tbody tr th:only-of-type {\n",
       "        vertical-align: middle;\n",
       "    }\n",
       "\n",
       "    .dataframe tbody tr th {\n",
       "        vertical-align: top;\n",
       "    }\n",
       "\n",
       "    .dataframe thead th {\n",
       "        text-align: right;\n",
       "    }\n",
       "</style>\n",
       "<table border=\"1\" class=\"dataframe\">\n",
       "  <thead>\n",
       "    <tr style=\"text-align: right;\">\n",
       "      <th></th>\n",
       "      <th>Location</th>\n",
       "      <th>State</th>\n",
       "      <th>Region</th>\n",
       "      <th>Income</th>\n",
       "      <th>Construction</th>\n",
       "      <th>BusinessType</th>\n",
       "      <th>Earthquake</th>\n",
       "      <th>Flood</th>\n",
       "      <th>Product</th>\n",
       "    </tr>\n",
       "  </thead>\n",
       "  <tbody>\n",
       "    <tr>\n",
       "      <th>0</th>\n",
       "      <td>Urban</td>\n",
       "      <td>NY</td>\n",
       "      <td>East</td>\n",
       "      <td>16,17,630</td>\n",
       "      <td>Frame</td>\n",
       "      <td>Retail</td>\n",
       "      <td>N</td>\n",
       "      <td>N</td>\n",
       "      <td>C4</td>\n",
       "    </tr>\n",
       "    <tr>\n",
       "      <th>1</th>\n",
       "      <td>Urban</td>\n",
       "      <td>NY</td>\n",
       "      <td>East</td>\n",
       "      <td>86,78,500</td>\n",
       "      <td>Fire Resist</td>\n",
       "      <td>Apartment</td>\n",
       "      <td>Y</td>\n",
       "      <td>Y</td>\n",
       "      <td>C1</td>\n",
       "    </tr>\n",
       "    <tr>\n",
       "      <th>2</th>\n",
       "      <td>Rural</td>\n",
       "      <td>WI</td>\n",
       "      <td>Midwest</td>\n",
       "      <td>20,52,660</td>\n",
       "      <td>Frame</td>\n",
       "      <td>Farming</td>\n",
       "      <td>N</td>\n",
       "      <td>N</td>\n",
       "      <td>A6</td>\n",
       "    </tr>\n",
       "    <tr>\n",
       "      <th>3</th>\n",
       "      <td>Urban</td>\n",
       "      <td>NY</td>\n",
       "      <td>East</td>\n",
       "      <td>1,75,80,000</td>\n",
       "      <td>Frame</td>\n",
       "      <td>Apartment</td>\n",
       "      <td>Y</td>\n",
       "      <td>Y</td>\n",
       "      <td>C6</td>\n",
       "    </tr>\n",
       "    <tr>\n",
       "      <th>4</th>\n",
       "      <td>Urban</td>\n",
       "      <td>NY</td>\n",
       "      <td>East</td>\n",
       "      <td>19,25,000</td>\n",
       "      <td>Masonry</td>\n",
       "      <td>Hospitality</td>\n",
       "      <td>N</td>\n",
       "      <td>N</td>\n",
       "      <td>C1</td>\n",
       "    </tr>\n",
       "  </tbody>\n",
       "</table>\n",
       "</div>"
      ],
      "text/plain": [
       "  Location State   Region       Income Construction BusinessType Earthquake  \\\n",
       "0    Urban    NY     East    16,17,630        Frame       Retail          N   \n",
       "1    Urban    NY     East    86,78,500  Fire Resist    Apartment          Y   \n",
       "2    Rural    WI  Midwest    20,52,660        Frame      Farming          N   \n",
       "3    Urban    NY     East  1,75,80,000        Frame    Apartment          Y   \n",
       "4    Urban    NY     East    19,25,000      Masonry  Hospitality          N   \n",
       "\n",
       "  Flood Product  \n",
       "0     N      C4  \n",
       "1     Y      C1  \n",
       "2     N      A6  \n",
       "3     Y      C6  \n",
       "4     N      C1  "
      ]
     },
     "execution_count": 3,
     "metadata": {},
     "output_type": "execute_result"
    }
   ],
   "source": [
    "df.head()"
   ]
  },
  {
   "cell_type": "code",
   "execution_count": 4,
   "id": "fc58c40e",
   "metadata": {},
   "outputs": [
    {
     "data": {
      "text/plain": [
       "0      C4\n",
       "1      C1\n",
       "2      A6\n",
       "3      C6\n",
       "4      C1\n",
       "       ..\n",
       "495    E2\n",
       "496    B1\n",
       "497    C7\n",
       "498    C7\n",
       "499    D2\n",
       "Name: Product, Length: 500, dtype: object"
      ]
     },
     "execution_count": 4,
     "metadata": {},
     "output_type": "execute_result"
    }
   ],
   "source": [
    "df[\"Product\"]"
   ]
  },
  {
   "cell_type": "code",
   "execution_count": 5,
   "id": "6cbef81b",
   "metadata": {},
   "outputs": [
    {
     "data": {
      "text/plain": [
       "(500, 9)"
      ]
     },
     "execution_count": 5,
     "metadata": {},
     "output_type": "execute_result"
    }
   ],
   "source": [
    "df.shape"
   ]
  },
  {
   "cell_type": "code",
   "execution_count": 6,
   "id": "c8ced050",
   "metadata": {},
   "outputs": [
    {
     "data": {
      "text/html": [
       "<div>\n",
       "<style scoped>\n",
       "    .dataframe tbody tr th:only-of-type {\n",
       "        vertical-align: middle;\n",
       "    }\n",
       "\n",
       "    .dataframe tbody tr th {\n",
       "        vertical-align: top;\n",
       "    }\n",
       "\n",
       "    .dataframe thead th {\n",
       "        text-align: right;\n",
       "    }\n",
       "</style>\n",
       "<table border=\"1\" class=\"dataframe\">\n",
       "  <thead>\n",
       "    <tr style=\"text-align: right;\">\n",
       "      <th></th>\n",
       "      <th>Location</th>\n",
       "      <th>State</th>\n",
       "      <th>Region</th>\n",
       "      <th>Income</th>\n",
       "      <th>Construction</th>\n",
       "      <th>BusinessType</th>\n",
       "      <th>Earthquake</th>\n",
       "      <th>Flood</th>\n",
       "      <th>Product</th>\n",
       "    </tr>\n",
       "  </thead>\n",
       "  <tbody>\n",
       "    <tr>\n",
       "      <th>495</th>\n",
       "      <td>Urban</td>\n",
       "      <td>VT</td>\n",
       "      <td>Northeast</td>\n",
       "      <td>41,01,750</td>\n",
       "      <td>Fire Resist</td>\n",
       "      <td>Office Bldg</td>\n",
       "      <td>Y</td>\n",
       "      <td>Y</td>\n",
       "      <td>E2</td>\n",
       "    </tr>\n",
       "    <tr>\n",
       "      <th>496</th>\n",
       "      <td>Urban</td>\n",
       "      <td>OH</td>\n",
       "      <td>Central</td>\n",
       "      <td>17,39,100</td>\n",
       "      <td>Frame</td>\n",
       "      <td>Apartment</td>\n",
       "      <td>N</td>\n",
       "      <td>N</td>\n",
       "      <td>B1</td>\n",
       "    </tr>\n",
       "    <tr>\n",
       "      <th>497</th>\n",
       "      <td>Urban</td>\n",
       "      <td>NY</td>\n",
       "      <td>East</td>\n",
       "      <td>22,50,000</td>\n",
       "      <td>Frame</td>\n",
       "      <td>Office Bldg</td>\n",
       "      <td>Y</td>\n",
       "      <td>Y</td>\n",
       "      <td>C7</td>\n",
       "    </tr>\n",
       "    <tr>\n",
       "      <th>498</th>\n",
       "      <td>Urban</td>\n",
       "      <td>NY</td>\n",
       "      <td>East</td>\n",
       "      <td>1,64,82,200</td>\n",
       "      <td>Frame</td>\n",
       "      <td>Office Bldg</td>\n",
       "      <td>Y</td>\n",
       "      <td>Y</td>\n",
       "      <td>C7</td>\n",
       "    </tr>\n",
       "    <tr>\n",
       "      <th>499</th>\n",
       "      <td>Urban</td>\n",
       "      <td>WI</td>\n",
       "      <td>Midwest</td>\n",
       "      <td>17,76,800</td>\n",
       "      <td>Frame</td>\n",
       "      <td>Farming</td>\n",
       "      <td>N</td>\n",
       "      <td>N</td>\n",
       "      <td>D2</td>\n",
       "    </tr>\n",
       "  </tbody>\n",
       "</table>\n",
       "</div>"
      ],
      "text/plain": [
       "    Location State     Region       Income Construction BusinessType  \\\n",
       "495    Urban    VT  Northeast    41,01,750  Fire Resist  Office Bldg   \n",
       "496    Urban    OH    Central    17,39,100        Frame    Apartment   \n",
       "497    Urban    NY       East    22,50,000        Frame  Office Bldg   \n",
       "498    Urban    NY       East  1,64,82,200        Frame  Office Bldg   \n",
       "499    Urban    WI    Midwest    17,76,800        Frame      Farming   \n",
       "\n",
       "    Earthquake Flood Product  \n",
       "495          Y     Y      E2  \n",
       "496          N     N      B1  \n",
       "497          Y     Y      C7  \n",
       "498          Y     Y      C7  \n",
       "499          N     N      D2  "
      ]
     },
     "execution_count": 6,
     "metadata": {},
     "output_type": "execute_result"
    }
   ],
   "source": [
    "df.tail()"
   ]
  },
  {
   "cell_type": "code",
   "execution_count": 7,
   "id": "fa87a4e8",
   "metadata": {},
   "outputs": [
    {
     "name": "stdout",
     "output_type": "stream",
     "text": [
      "<class 'pandas.core.frame.DataFrame'>\n",
      "RangeIndex: 500 entries, 0 to 499\n",
      "Data columns (total 9 columns):\n",
      " #   Column        Non-Null Count  Dtype \n",
      "---  ------        --------------  ----- \n",
      " 0   Location      500 non-null    object\n",
      " 1   State         500 non-null    object\n",
      " 2   Region        500 non-null    object\n",
      " 3   Income        500 non-null    object\n",
      " 4   Construction  500 non-null    object\n",
      " 5   BusinessType  500 non-null    object\n",
      " 6   Earthquake    500 non-null    object\n",
      " 7   Flood         500 non-null    object\n",
      " 8   Product       500 non-null    object\n",
      "dtypes: object(9)\n",
      "memory usage: 35.3+ KB\n"
     ]
    }
   ],
   "source": [
    "df.info()"
   ]
  },
  {
   "cell_type": "code",
   "execution_count": 8,
   "id": "53113576",
   "metadata": {},
   "outputs": [
    {
     "data": {
      "text/html": [
       "<div>\n",
       "<style scoped>\n",
       "    .dataframe tbody tr th:only-of-type {\n",
       "        vertical-align: middle;\n",
       "    }\n",
       "\n",
       "    .dataframe tbody tr th {\n",
       "        vertical-align: top;\n",
       "    }\n",
       "\n",
       "    .dataframe thead th {\n",
       "        text-align: right;\n",
       "    }\n",
       "</style>\n",
       "<table border=\"1\" class=\"dataframe\">\n",
       "  <thead>\n",
       "    <tr style=\"text-align: right;\">\n",
       "      <th></th>\n",
       "      <th>Location</th>\n",
       "      <th>State</th>\n",
       "      <th>Region</th>\n",
       "      <th>Income</th>\n",
       "      <th>Construction</th>\n",
       "      <th>BusinessType</th>\n",
       "      <th>Earthquake</th>\n",
       "      <th>Flood</th>\n",
       "      <th>Product</th>\n",
       "    </tr>\n",
       "  </thead>\n",
       "  <tbody>\n",
       "    <tr>\n",
       "      <th>count</th>\n",
       "      <td>500</td>\n",
       "      <td>500</td>\n",
       "      <td>500</td>\n",
       "      <td>500</td>\n",
       "      <td>500</td>\n",
       "      <td>500</td>\n",
       "      <td>500</td>\n",
       "      <td>500</td>\n",
       "      <td>500</td>\n",
       "    </tr>\n",
       "    <tr>\n",
       "      <th>unique</th>\n",
       "      <td>2</td>\n",
       "      <td>10</td>\n",
       "      <td>4</td>\n",
       "      <td>489</td>\n",
       "      <td>4</td>\n",
       "      <td>13</td>\n",
       "      <td>2</td>\n",
       "      <td>2</td>\n",
       "      <td>26</td>\n",
       "    </tr>\n",
       "    <tr>\n",
       "      <th>top</th>\n",
       "      <td>Urban</td>\n",
       "      <td>NY</td>\n",
       "      <td>East</td>\n",
       "      <td>8,47,300</td>\n",
       "      <td>Frame</td>\n",
       "      <td>Apartment</td>\n",
       "      <td>Y</td>\n",
       "      <td>N</td>\n",
       "      <td>C1</td>\n",
       "    </tr>\n",
       "    <tr>\n",
       "      <th>freq</th>\n",
       "      <td>405</td>\n",
       "      <td>261</td>\n",
       "      <td>337</td>\n",
       "      <td>3</td>\n",
       "      <td>322</td>\n",
       "      <td>169</td>\n",
       "      <td>256</td>\n",
       "      <td>251</td>\n",
       "      <td>77</td>\n",
       "    </tr>\n",
       "  </tbody>\n",
       "</table>\n",
       "</div>"
      ],
      "text/plain": [
       "       Location State Region    Income Construction BusinessType Earthquake  \\\n",
       "count       500   500    500       500          500          500        500   \n",
       "unique        2    10      4       489            4           13          2   \n",
       "top       Urban    NY   East  8,47,300        Frame    Apartment          Y   \n",
       "freq        405   261    337         3          322          169        256   \n",
       "\n",
       "       Flood Product  \n",
       "count    500     500  \n",
       "unique     2      26  \n",
       "top        N      C1  \n",
       "freq     251      77  "
      ]
     },
     "execution_count": 8,
     "metadata": {},
     "output_type": "execute_result"
    }
   ],
   "source": [
    "df.describe()"
   ]
  },
  {
   "cell_type": "code",
   "execution_count": 9,
   "id": "618cf59d",
   "metadata": {},
   "outputs": [
    {
     "name": "stderr",
     "output_type": "stream",
     "text": [
      "c:\\users\\om\\appdata\\local\\programs\\python\\python39\\lib\\site-packages\\seaborn\\_decorators.py:36: FutureWarning: Pass the following variable as a keyword arg: x. From version 0.12, the only valid positional argument will be `data`, and passing other arguments without an explicit keyword will result in an error or misinterpretation.\n",
      "  warnings.warn(\n"
     ]
    },
    {
     "data": {
      "text/plain": [
       "<AxesSubplot:xlabel='Product', ylabel='count'>"
      ]
     },
     "execution_count": 9,
     "metadata": {},
     "output_type": "execute_result"
    },
    {
     "data": {
      "image/png": "[encoded data removed]",
      "text/plain": [
       "<Figure size 432x288 with 1 Axes>"
      ]
     },
     "metadata": {
      "needs_background": "light"
     },
     "output_type": "display_data"
    }
   ],
   "source": [
    "sns.countplot(df['Product'])"
   ]
  },
  {
   "cell_type": "code",
   "execution_count": 12,
   "id": "21b37f07",
   "metadata": {},
   "outputs": [
    {
     "name": "stderr",
     "output_type": "stream",
     "text": [
      "c:\\users\\om\\appdata\\local\\programs\\python\\python39\\lib\\site-packages\\seaborn\\_decorators.py:36: FutureWarning: Pass the following variable as a keyword arg: x. From version 0.12, the only valid positional argument will be `data`, and passing other arguments without an explicit keyword will result in an error or misinterpretation.\n",
      "  warnings.warn(\n"
     ]
    },
    {
     "data": {
      "text/plain": [
       "<AxesSubplot:xlabel='Product', ylabel='count'>"
      ]
     },
     "execution_count": 12,
     "metadata": {},
     "output_type": "execute_result"
    },
    {
     "data": {
      "image/png": "[encoded data removed]",
      "text/plain": [
       "<Figure size 1440x576 with 1 Axes>"
      ]
     },
     "metadata": {
      "needs_background": "light"
     },
     "output_type": "display_data"
    }
   ],
   "source": [
    "plt.figure(figsize = (20,8))\n",
    "sns.countplot(df['Product'])"
   ]
  },
  {
   "cell_type": "code",
   "execution_count": null,
   "id": "53b60fff",
   "metadata": {},
   "outputs": [],
   "source": []
  },
  {
   "cell_type": "code",
   "execution_count": null,
   "id": "86a5960c",
   "metadata": {},
   "outputs": [],
   "source": []
  }
 ],
 "metadata": {
  "kernelspec": {
   "display_name": "Python 3",
   "language": "python",
   "name": "python3"
  },
  "language_info": {
   "codemirror_mode": {
    "name": "ipython",
    "version": 3
   },
   "file_extension": ".py",
   "mimetype": "text/x-python",
   "name": "python",
   "nbconvert_exporter": "python",
   "pygments_lexer": "ipython3",
   "version": "3.9.1"
  }
 },
 "nbformat": 4,
 "nbformat_minor": 5
}
